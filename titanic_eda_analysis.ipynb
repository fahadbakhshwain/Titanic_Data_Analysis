{
 "cells": [
  {
   "cell_type": "code",
   "execution_count": 1,
   "id": "7e1d1913-8378-4d83-a71a-ecc0479dfdc0",
   "metadata": {},
   "outputs": [
    {
     "name": "stdout",
     "output_type": "stream",
     "text": [
      "أنا أعمل!\n"
     ]
    }
   ],
   "source": [
    "print(\"أنا أعمل!\")"
   ]
  },
  {
   "cell_type": "code",
   "execution_count": 2,
   "id": "0ff47f37-238e-4ae6-8973-ca1d898be42b",
   "metadata": {},
   "outputs": [
    {
     "name": "stdout",
     "output_type": "stream",
     "text": [
      "تم قراءة البيانات بنجاح! إليك أول 5 صفوف:\n",
      "   Skip to content\n",
      "0  Navigation Menu\n",
      "1          Product\n",
      "2        Solutions\n",
      "3        Resources\n",
      "4      Open Source\n",
      "\n",
      "وهنا معلومات عامة عن البيانات:\n",
      "<class 'pandas.core.frame.DataFrame'>\n",
      "RangeIndex: 317 entries, 0 to 316\n",
      "Data columns (total 1 columns):\n",
      " #   Column           Non-Null Count  Dtype \n",
      "---  ------           --------------  ----- \n",
      " 0   Skip to content  317 non-null    object\n",
      "dtypes: object(1)\n",
      "memory usage: 2.6+ KB\n",
      "None\n"
     ]
    }
   ],
   "source": [
    "import pandas as pd\n",
    "\n",
    "# ملاحظة: تأكد من أن المسار هنا هو المسار الذي أعطيته لي بالضبط\n",
    "# إذا كان لديك أي مسافات في اسم المجلد، استخدم علامة \\ قبلها كما فعلت.\n",
    "# أو، الأفضل والأسهل، استخدم علامة r قبل علامتي التنصيص لتعريف \"raw string\" لتجنب مشاكل المسافات والعلامات الخاصة:\n",
    "file_path = r'/Users/fahadahmed/Desktop/1 week/ecommerce_data.csv'\n",
    "\n",
    "df_ecommerce = pd.read_csv(file_path)\n",
    "\n",
    "print(\"تم قراءة البيانات بنجاح! إليك أول 5 صفوف:\")\n",
    "print(df_ecommerce.head())\n",
    "\n",
    "print(\"\\nوهنا معلومات عامة عن البيانات:\")\n",
    "print(df_ecommerce.info())"
   ]
  },
  {
   "cell_type": "code",
   "execution_count": 3,
   "id": "0ec6ad8b-998d-43bc-9481-b896c827d1b5",
   "metadata": {},
   "outputs": [
    {
     "name": "stdout",
     "output_type": "stream",
     "text": [
      "شكل البيانات (عدد الصفوف, عدد الأعمدة): (317, 1)\n",
      "\n",
      "أسماء الأعمدة: Index(['Skip to content'], dtype='object')\n",
      "\n",
      "أنواع البيانات لكل عمود:\n",
      " Skip to content    object\n",
      "dtype: object\n"
     ]
    }
   ],
   "source": [
    "# معرفة عدد الصفوف والأعمدة (shape)\n",
    "print(\"شكل البيانات (عدد الصفوف, عدد الأعمدة):\", df_ecommerce.shape)\n",
    "\n",
    "# عرض أسماء الأعمدة فقط\n",
    "print(\"\\nأسماء الأعمدة:\", df_ecommerce.columns)\n",
    "\n",
    "# عرض أنواع البيانات لكل عمود (dtypes)\n",
    "# (هذه كررناها سابقاً مع info() لكنها مهمة منفصلة أيضاً)\n",
    "print(\"\\nأنواع البيانات لكل عمود:\\n\", df_ecommerce.dtypes)"
   ]
  },
  {
   "cell_type": "code",
   "execution_count": 4,
   "id": "94e7e979-85e8-4cfc-8952-952c78395515",
   "metadata": {},
   "outputs": [
    {
     "name": "stdout",
     "output_type": "stream",
     "text": [
      "ملخص إحصائي للبيانات العددية:\n",
      "        Skip to content\n",
      "count              317\n",
      "unique             315\n",
      "top     lazyprogrammer\n",
      "freq                 2\n"
     ]
    }
   ],
   "source": [
    "# عرض ملخص إحصائي للبيانات العددية\n",
    "print(\"ملخص إحصائي للبيانات العددية:\\n\", df_ecommerce.describe())"
   ]
  },
  {
   "cell_type": "code",
   "execution_count": 5,
   "id": "4c441c78-e1c8-4b3e-b041-354f5d83ad7c",
   "metadata": {},
   "outputs": [
    {
     "name": "stdout",
     "output_type": "stream",
     "text": [
      "أنواع البيانات الحالية لكل عمود:\n",
      " Skip to content    object\n",
      "dtype: object\n"
     ]
    }
   ],
   "source": [
    "print(\"أنواع البيانات الحالية لكل عمود:\\n\", df_ecommerce.dtypes)"
   ]
  },
  {
   "cell_type": "code",
   "execution_count": 6,
   "id": "6d6b98b3-3c49-463b-94da-5f972cf1b884",
   "metadata": {},
   "outputs": [
    {
     "name": "stdout",
     "output_type": "stream",
     "text": [
      "تم قراءة الملف بنجاح باستخدام فاصلة (comma).\n",
      "\n",
      "أول 5 صفوف من البيانات:\n",
      "    Skip to content\n",
      "0  Navigation Menu\n",
      "1          Product\n",
      "2        Solutions\n",
      "3        Resources\n",
      "4      Open Source\n",
      "\n",
      "أنواع البيانات لكل عمود:\n",
      " Skip to content    object\n",
      "dtype: object\n",
      "\n",
      "ملخص إحصائي للبيانات العددية:\n",
      "        Skip to content\n",
      "count              317\n",
      "unique             315\n",
      "top     lazyprogrammer\n",
      "freq                 2\n"
     ]
    }
   ],
   "source": [
    "import pandas as pd\n",
    "\n",
    "file_path = r'/Users/fahadahmed/Desktop/1 week/ecommerce_data.csv'\n",
    "\n",
    "try:\n",
    "    # محاولة قراءة الملف مع تحديد الفاصلة والترميز الافتراضي 'utf-8'\n",
    "    df_ecommerce = pd.read_csv(file_path, sep=',')\n",
    "    print(\"تم قراءة الملف بنجاح باستخدام فاصلة (comma).\")\n",
    "except UnicodeDecodeError:\n",
    "    # إذا فشل الترميز الافتراضي، جرب ترميز 'latin1'\n",
    "    print(\"فشل ترميز utf-8، نحاول latin1...\")\n",
    "    df_ecommerce = pd.read_csv(file_path, sep=',', encoding='latin1')\n",
    "    print(\"تم قراءة الملف بنجاح باستخدام فاصلة (comma) وترميز latin1.\")\n",
    "except Exception as e:\n",
    "    print(f\"حدث خطأ أثناء قراءة الملف: {e}\")\n",
    "    # إذا حدث خطأ، قم بإنشاء DataFrame فارغ لتجنب توقف الكود\n",
    "    df_ecommerce = pd.DataFrame() # DataFrame فارغ\n",
    "\n",
    "# بعد محاولة القراءة، قم بعرض أول 5 صفوف ومعلومات البيانات\n",
    "if not df_ecommerce.empty: # تأكد أن DataFrame ليس فارغاً قبل محاولة عرضه\n",
    "    print(\"\\nأول 5 صفوف من البيانات:\\n\", df_ecommerce.head())\n",
    "    print(\"\\nأنواع البيانات لكل عمود:\\n\", df_ecommerce.dtypes)\n",
    "    print(\"\\nملخص إحصائي للبيانات العددية:\\n\", df_ecommerce.describe())\n",
    "else:\n",
    "    print(\"\\nلم يتمكن من قراءة البيانات بنجاح.\")"
   ]
  },
  {
   "cell_type": "code",
   "execution_count": 7,
   "id": "861c0f98-b18c-4625-b0ac-27321f8fd843",
   "metadata": {},
   "outputs": [
    {
     "name": "stdout",
     "output_type": "stream",
     "text": [
      "حدث خطأ أثناء قراءة الملف: [Errno 2] No such file or directory: '/Users/fahadahmed/Desktop/1 week/titanic.csv'\n",
      "\n",
      "لم يتمكن من قراءة بيانات Titanic بنجاح.\n"
     ]
    }
   ],
   "source": [
    "import pandas as pd\n",
    "\n",
    "# هذا هو المسار الجديد لملف Titanic\n",
    "# تأكد أن اسم الملف هو 'titanic.csv' كما حفظته.\n",
    "file_path = r'/Users/fahadahmed/Desktop/1 week/titanic.csv'\n",
    "\n",
    "try:\n",
    "    # قراءة الملف باستخدام Pandas\n",
    "    df_titanic = pd.read_csv(file_path, sep=',')\n",
    "    print(\"تم قراءة ملف Titanic بنجاح باستخدام فاصلة (comma).\")\n",
    "except UnicodeDecodeError:\n",
    "    print(\"فشل ترميز utf-8، نحاول latin1...\")\n",
    "    df_titanic = pd.read_csv(file_path, sep=',', encoding='latin1')\n",
    "    print(\"تم قراءة ملف Titanic بنجاح باستخدام فاصلة (comma) وترميز latin1.\")\n",
    "except Exception as e:\n",
    "    print(f\"حدث خطأ أثناء قراءة الملف: {e}\")\n",
    "    df_titanic = pd.DataFrame() # DataFrame فارغ في حال الفشل التام\n",
    "\n",
    "# بعد محاولة القراءة، قم بعرض أول 5 صفوف ومعلومات البيانات والملخص الإحصائي\n",
    "if not df_titanic.empty: # تأكد أن DataFrame ليس فارغاً\n",
    "    print(\"\\nأول 5 صفوف من بيانات Titanic:\\n\", df_titanic.head())\n",
    "    print(\"\\nأنواع البيانات لكل عمود:\\n\", df_titanic.dtypes)\n",
    "    print(\"\\nملخص إحصائي للبيانات العددية:\\n\", df_titanic.describe())\n",
    "else:\n",
    "    print(\"\\nلم يتمكن من قراءة بيانات Titanic بنجاح.\")"
   ]
  },
  {
   "cell_type": "code",
   "execution_count": 8,
   "id": "02b05348-cb7e-4dca-99bd-cce9634d4a58",
   "metadata": {},
   "outputs": [
    {
     "name": "stdout",
     "output_type": "stream",
     "text": [
      "حدث خطأ أثناء قراءة الملف: [Errno 2] No such file or directory: '/Users/fahadahmed/Desktop/1 week/titanic.csv'\n",
      "\n",
      "لم يتمكن من قراءة بيانات Titanic بنجاح.\n"
     ]
    }
   ],
   "source": [
    "import pandas as pd\n",
    "\n",
    "# هذا هو المسار الجديد لملف Titanic\n",
    "# تأكد أن اسم الملف هو 'titanic.csv' كما حفظته.\n",
    "file_path = r'/Users/fahadahmed/Desktop/1 week/titanic.csv'\n",
    "\n",
    "try:\n",
    "    # قراءة الملف باستخدام Pandas\n",
    "    df_titanic = pd.read_csv(file_path, sep=',')\n",
    "    print(\"تم قراءة ملف Titanic بنجاح باستخدام فاصلة (comma).\")\n",
    "except UnicodeDecodeError:\n",
    "    print(\"فشل ترميز utf-8، نحاول latin1...\")\n",
    "    df_titanic = pd.read_csv(file_path, sep=',', encoding='latin1')\n",
    "    print(\"تم قراءة ملف Titanic بنجاح باستخدام فاصلة (comma) وترميز latin1.\")\n",
    "except Exception as e:\n",
    "    print(f\"حدث خطأ أثناء قراءة الملف: {e}\")\n",
    "    df_titanic = pd.DataFrame() # DataFrame فارغ في حال الفشل التام\n",
    "\n",
    "# بعد محاولة القراءة، قم بعرض أول 5 صفوف ومعلومات البيانات والملخص الإحصائي\n",
    "if not df_titanic.empty: # تأكد أن DataFrame ليس فارغاً\n",
    "    print(\"\\nأول 5 صفوف من بيانات Titanic:\\n\", df_titanic.head())\n",
    "    print(\"\\nأنواع البيانات لكل عمود:\\n\", df_titanic.dtypes)\n",
    "    print(\"\\nملخص إحصائي للبيانات العددية:\\n\", df_titanic.describe())\n",
    "else:\n",
    "    print(\"\\nلم يتمكن من قراءة بيانات Titanic بنجاح.\")"
   ]
  },
  {
   "cell_type": "code",
   "execution_count": 9,
   "id": "12dcf6de-ac83-4963-b3dc-b7c9feffeae1",
   "metadata": {},
   "outputs": [
    {
     "name": "stdout",
     "output_type": "stream",
     "text": [
      "تم قراءة ملف Titanic بنجاح باستخدام فاصلة (comma).\n",
      "\n",
      "أول 5 صفوف من بيانات Titanic:\n",
      "    PassengerId  Survived  Pclass  \\\n",
      "0            1         0       3   \n",
      "1            2         1       1   \n",
      "2            3         1       3   \n",
      "3            4         1       1   \n",
      "4            5         0       3   \n",
      "\n",
      "                                                Name     Sex   Age  SibSp  \\\n",
      "0                            Braund, Mr. Owen Harris    male  22.0      1   \n",
      "1  Cumings, Mrs. John Bradley (Florence Briggs Th...  female  38.0      1   \n",
      "2                             Heikkinen, Miss. Laina  female  26.0      0   \n",
      "3       Futrelle, Mrs. Jacques Heath (Lily May Peel)  female  35.0      1   \n",
      "4                           Allen, Mr. William Henry    male  35.0      0   \n",
      "\n",
      "   Parch            Ticket     Fare Cabin Embarked  \n",
      "0      0         A/5 21171   7.2500   NaN        S  \n",
      "1      0          PC 17599  71.2833   C85        C  \n",
      "2      0  STON/O2. 3101282   7.9250   NaN        S  \n",
      "3      0            113803  53.1000  C123        S  \n",
      "4      0            373450   8.0500   NaN        S  \n",
      "\n",
      "أنواع البيانات لكل عمود:\n",
      " PassengerId      int64\n",
      "Survived         int64\n",
      "Pclass           int64\n",
      "Name            object\n",
      "Sex             object\n",
      "Age            float64\n",
      "SibSp            int64\n",
      "Parch            int64\n",
      "Ticket          object\n",
      "Fare           float64\n",
      "Cabin           object\n",
      "Embarked        object\n",
      "dtype: object\n",
      "\n",
      "ملخص إحصائي للبيانات العددية:\n",
      "        PassengerId    Survived      Pclass         Age       SibSp  \\\n",
      "count   891.000000  891.000000  891.000000  714.000000  891.000000   \n",
      "mean    446.000000    0.383838    2.308642   29.699118    0.523008   \n",
      "std     257.353842    0.486592    0.836071   14.526497    1.102743   \n",
      "min       1.000000    0.000000    1.000000    0.420000    0.000000   \n",
      "25%     223.500000    0.000000    2.000000   20.125000    0.000000   \n",
      "50%     446.000000    0.000000    3.000000   28.000000    0.000000   \n",
      "75%     668.500000    1.000000    3.000000   38.000000    1.000000   \n",
      "max     891.000000    1.000000    3.000000   80.000000    8.000000   \n",
      "\n",
      "            Parch        Fare  \n",
      "count  891.000000  891.000000  \n",
      "mean     0.381594   32.204208  \n",
      "std      0.806057   49.693429  \n",
      "min      0.000000    0.000000  \n",
      "25%      0.000000    7.910400  \n",
      "50%      0.000000   14.454200  \n",
      "75%      0.000000   31.000000  \n",
      "max      6.000000  512.329200  \n"
     ]
    }
   ],
   "source": [
    "import pandas as pd\n",
    "\n",
    "# هذا هو المسار الجديد لملف Titanic\n",
    "# تأكد أن اسم الملف هو 'titanic.csv' كما حفظته.\n",
    "file_path = r'/Users/fahadahmed/Desktop/1 week/titanic.csv'\n",
    "\n",
    "try:\n",
    "    # قراءة الملف باستخدام Pandas\n",
    "    df_titanic = pd.read_csv(file_path, sep=',')\n",
    "    print(\"تم قراءة ملف Titanic بنجاح باستخدام فاصلة (comma).\")\n",
    "except UnicodeDecodeError:\n",
    "    print(\"فشل ترميز utf-8، نحاول latin1...\")\n",
    "    df_titanic = pd.read_csv(file_path, sep=',', encoding='latin1')\n",
    "    print(\"تم قراءة ملف Titanic بنجاح باستخدام فاصلة (comma) وترميز latin1.\")\n",
    "except Exception as e:\n",
    "    print(f\"حدث خطأ أثناء قراءة الملف: {e}\")\n",
    "    df_titanic = pd.DataFrame() # DataFrame فارغ في حال الفشل التام\n",
    "\n",
    "# بعد محاولة القراءة، قم بعرض أول 5 صفوف ومعلومات البيانات والملخص الإحصائي\n",
    "if not df_titanic.empty: # تأكد أن DataFrame ليس فارغاً\n",
    "    print(\"\\nأول 5 صفوف من بيانات Titanic:\\n\", df_titanic.head())\n",
    "    print(\"\\nأنواع البيانات لكل عمود:\\n\", df_titanic.dtypes)\n",
    "    print(\"\\nملخص إحصائي للبيانات العددية:\\n\", df_titanic.describe())\n",
    "else:\n",
    "    print(\"\\nلم يتمكن من قراءة بيانات Titanic بنجاح.\")"
   ]
  },
  {
   "cell_type": "code",
   "execution_count": 10,
   "id": "1070b7e0-4d19-4f7d-b0bb-eab1c2f31c81",
   "metadata": {},
   "outputs": [
    {
     "name": "stdout",
     "output_type": "stream",
     "text": [
      "عدد القيم المفقودة في كل عمود:\n",
      " PassengerId      0\n",
      "Survived         0\n",
      "Pclass           0\n",
      "Name             0\n",
      "Sex              0\n",
      "Age            177\n",
      "SibSp            0\n",
      "Parch            0\n",
      "Ticket           0\n",
      "Fare             0\n",
      "Cabin          687\n",
      "Embarked         2\n",
      "dtype: int64\n"
     ]
    }
   ],
   "source": [
    "# تحديد عدد القيم المفقودة في كل عمود\n",
    "print(\"عدد القيم المفقودة في كل عمود:\\n\", df_titanic.isnull().sum())"
   ]
  },
  {
   "cell_type": "code",
   "execution_count": 11,
   "id": "1a22181f-c011-40e8-a9ed-7014b73b9d3d",
   "metadata": {},
   "outputs": [
    {
     "name": "stdout",
     "output_type": "stream",
     "text": [
      "تم حذف عمود Cabin.\n"
     ]
    }
   ],
   "source": [
    "# حذف عمود Cabin بسبب كثرة القيم المفقودة فيه\n",
    "df_titanic = df_titanic.drop('Cabin', axis=1)\n",
    "print(\"تم حذف عمود Cabin.\")"
   ]
  },
  {
   "cell_type": "code",
   "execution_count": 12,
   "id": "d104b463-9912-45a6-820e-9d3c4ab1486b",
   "metadata": {},
   "outputs": [
    {
     "name": "stdout",
     "output_type": "stream",
     "text": [
      "وسيط العمر هو: 28.0\n",
      "تم ملء القيم المفقودة في عمود Age بوسيط العمر.\n"
     ]
    },
    {
     "name": "stderr",
     "output_type": "stream",
     "text": [
      "/var/folders/kp/nwr8pbg54n168x11zh0frf0h0000gn/T/ipykernel_58754/3119821737.py:6: FutureWarning: A value is trying to be set on a copy of a DataFrame or Series through chained assignment using an inplace method.\n",
      "The behavior will change in pandas 3.0. This inplace method will never work because the intermediate object on which we are setting values always behaves as a copy.\n",
      "\n",
      "For example, when doing 'df[col].method(value, inplace=True)', try using 'df.method({col: value}, inplace=True)' or df[col] = df[col].method(value) instead, to perform the operation inplace on the original object.\n",
      "\n",
      "\n",
      "  df_titanic['Age'].fillna(median_age, inplace=True)\n"
     ]
    }
   ],
   "source": [
    "# حساب وسيط العمر\n",
    "median_age = df_titanic['Age'].median()\n",
    "print(f\"وسيط العمر هو: {median_age}\")\n",
    "\n",
    "# ملء القيم المفقودة في عمود Age بالوسيط\n",
    "df_titanic['Age'].fillna(median_age, inplace=True)\n",
    "print(\"تم ملء القيم المفقودة في عمود Age بوسيط العمر.\")"
   ]
  },
  {
   "cell_type": "code",
   "execution_count": 13,
   "id": "90a4e03c-93b0-4426-8f73-b7d2eb807dc7",
   "metadata": {},
   "outputs": [
    {
     "name": "stdout",
     "output_type": "stream",
     "text": [
      "منوال ميناء المغادرة هو: S\n",
      "تم ملء القيم المفقودة في عمود Embarked بمنوال القيم.\n"
     ]
    },
    {
     "name": "stderr",
     "output_type": "stream",
     "text": [
      "/var/folders/kp/nwr8pbg54n168x11zh0frf0h0000gn/T/ipykernel_58754/2095250376.py:6: FutureWarning: A value is trying to be set on a copy of a DataFrame or Series through chained assignment using an inplace method.\n",
      "The behavior will change in pandas 3.0. This inplace method will never work because the intermediate object on which we are setting values always behaves as a copy.\n",
      "\n",
      "For example, when doing 'df[col].method(value, inplace=True)', try using 'df.method({col: value}, inplace=True)' or df[col] = df[col].method(value) instead, to perform the operation inplace on the original object.\n",
      "\n",
      "\n",
      "  df_titanic['Embarked'].fillna(mode_embarked, inplace=True)\n"
     ]
    }
   ],
   "source": [
    "# حساب منوال ميناء المغادرة (الأكثر تكراراً)\n",
    "mode_embarked = df_titanic['Embarked'].mode()[0] # [0] لأن mode() قد ترجع أكثر من قيمة إذا تكررت\n",
    "print(f\"منوال ميناء المغادرة هو: {mode_embarked}\")\n",
    "\n",
    "# ملء القيم المفقودة في عمود Embarked بالمنوال\n",
    "df_titanic['Embarked'].fillna(mode_embarked, inplace=True)\n",
    "print(\"تم ملء القيم المفقودة في عمود Embarked بمنوال القيم.\")"
   ]
  },
  {
   "cell_type": "code",
   "execution_count": 14,
   "id": "06f2fe97-8add-43d0-b578-d435ec1ff306",
   "metadata": {},
   "outputs": [
    {
     "name": "stdout",
     "output_type": "stream",
     "text": [
      "\n",
      "عدد القيم المفقودة بعد المعالجة:\n",
      " PassengerId    0\n",
      "Survived       0\n",
      "Pclass         0\n",
      "Name           0\n",
      "Sex            0\n",
      "Age            0\n",
      "SibSp          0\n",
      "Parch          0\n",
      "Ticket         0\n",
      "Fare           0\n",
      "Embarked       0\n",
      "dtype: int64\n"
     ]
    }
   ],
   "source": [
    "print(\"\\nعدد القيم المفقودة بعد المعالجة:\\n\", df_titanic.isnull().sum())"
   ]
  },
  {
   "cell_type": "code",
   "execution_count": 15,
   "id": "52a56492-b45d-465e-a562-02d21ad858ce",
   "metadata": {},
   "outputs": [
    {
     "name": "stdout",
     "output_type": "stream",
     "text": [
      "عدد الصفوف المكررة قبل الحذف: 0\n"
     ]
    }
   ],
   "source": [
    "# تحديد عدد الصفوف المكررة\n",
    "num_duplicates = df_titanic.duplicated().sum()\n",
    "print(f\"عدد الصفوف المكررة قبل الحذف: {num_duplicates}\")"
   ]
  },
  {
   "cell_type": "code",
   "execution_count": 16,
   "id": "44dce2e4-1249-4bf5-9b0a-fa56617ed997",
   "metadata": {},
   "outputs": [
    {
     "name": "stdout",
     "output_type": "stream",
     "text": [
      "توزيع الجنس (Sex):\n",
      " Sex\n",
      "male      577\n",
      "female    314\n",
      "Name: count, dtype: int64\n",
      "\n",
      "==============================\n",
      "\n",
      "توزيع ميناء المغادرة (Embarked):\n",
      " Embarked\n",
      "S    646\n",
      "C    168\n",
      "Q     77\n",
      "Name: count, dtype: int64\n"
     ]
    }
   ],
   "source": [
    "# عرض عدد تكرارات كل قيمة في عمود 'Sex'\n",
    "print(\"توزيع الجنس (Sex):\\n\", df_titanic['Sex'].value_counts())\n",
    "\n",
    "print(\"\\n\" + \"=\"*30 + \"\\n\") # لفاصل بين النتائج\n",
    "\n",
    "# عرض عدد تكرارات كل قيمة في عمود 'Embarked'\n",
    "print(\"توزيع ميناء المغادرة (Embarked):\\n\", df_titanic['Embarked'].value_counts())"
   ]
  },
  {
   "cell_type": "code",
   "execution_count": 17,
   "id": "2aae7493-1485-42f1-b52d-d7e5c3a81b48",
   "metadata": {},
   "outputs": [],
   "source": [
    "import matplotlib.pyplot as plt\n",
    "import seaborn as sns"
   ]
  },
  {
   "cell_type": "code",
   "execution_count": 18,
   "id": "68be512e-92d7-41ac-b83a-19269ca3fbe6",
   "metadata": {},
   "outputs": [
    {
     "data": {
      "image/png": "[encoded data removed]",
      "text/plain": [
       "<Figure size 800x500 with 1 Axes>"
      ]
     },
     "metadata": {},
     "output_type": "display_data"
    }
   ],
   "source": [
    "# رسم Histogram لعمود Age\n",
    "plt.figure(figsize=(8, 5)) # لتحديد حجم الرسم (العرض، الارتفاع)\n",
    "sns.histplot(df_titanic['Age'], kde=True, bins=20) # kde=True لرسم تقدير الكثافة، bins لعدد الفئات\n",
    "plt.title('توزيع أعمار الركاب') # عنوان الرسم\n",
    "plt.xlabel('العمر') # تسمية المحور الأفقي\n",
    "plt.ylabel('عدد الركاب') # تسمية المحور العمودي\n",
    "plt.grid(True) # لعرض شبكة في الرسم\n",
    "plt.show() # لعرض الرسم"
   ]
  },
  {
   "cell_type": "code",
   "execution_count": 19,
   "id": "cfcd4545-f209-4728-a084-c67fc4a0e7b5",
   "metadata": {},
   "outputs": [
    {
     "data": {
      "image/png": "[encoded data removed]",
      "text/plain": [
       "<Figure size 800x500 with 1 Axes>"
      ]
     },
     "metadata": {},
     "output_type": "display_data"
    }
   ],
   "source": [
    "# رسم Histogram لعمود Fare\n",
    "plt.figure(figsize=(8, 5))\n",
    "sns.histplot(df_titanic['Fare'], kde=True, bins=30)\n",
    "plt.title('توزيع أسعار التذاكر')\n",
    "plt.xlabel('سعر التذكرة')\n",
    "plt.ylabel('عدد الركاب')\n",
    "plt.grid(True)\n",
    "plt.show()"
   ]
  },
  {
   "cell_type": "code",
   "execution_count": 20,
   "id": "e57ca5fd-115b-49cc-9d3b-174b3ddee67e",
   "metadata": {},
   "outputs": [
    {
     "name": "stderr",
     "output_type": "stream",
     "text": [
      "/var/folders/kp/nwr8pbg54n168x11zh0frf0h0000gn/T/ipykernel_58754/2581071595.py:3: FutureWarning: \n",
      "\n",
      "Passing `palette` without assigning `hue` is deprecated and will be removed in v0.14.0. Assign the `x` variable to `hue` and set `legend=False` for the same effect.\n",
      "\n",
      "  sns.barplot(x='Sex', y='Survived', data=df_titanic, palette='viridis')\n"
     ]
    },
    {
     "data": {
      "image/png": "[encoded data removed]",
      "text/plain": [
       "<Figure size 600x400 with 1 Axes>"
      ]
     },
     "metadata": {},
     "output_type": "display_data"
    }
   ],
   "source": [
    "# تحليل البقاء على قيد الحياة حسب الجنس\n",
    "plt.figure(figsize=(6, 4))\n",
    "sns.barplot(x='Sex', y='Survived', data=df_titanic, palette='viridis')\n",
    "plt.title('معدل البقاء على قيد الحياة حسب الجنس')\n",
    "plt.xlabel('الجنس')\n",
    "plt.ylabel('معدل البقاء على قيد الحياة')\n",
    "plt.show()"
   ]
  },
  {
   "cell_type": "code",
   "execution_count": 21,
   "id": "a9ed0473-d61b-4de0-b7e9-0ca49ed9f380",
   "metadata": {},
   "outputs": [
    {
     "name": "stderr",
     "output_type": "stream",
     "text": [
      "/var/folders/kp/nwr8pbg54n168x11zh0frf0h0000gn/T/ipykernel_58754/3828360590.py:3: FutureWarning: \n",
      "\n",
      "Passing `palette` without assigning `hue` is deprecated and will be removed in v0.14.0. Assign the `x` variable to `hue` and set `legend=False` for the same effect.\n",
      "\n",
      "  sns.barplot(x='Pclass', y='Survived', data=df_titanic, palette='magma')\n"
     ]
    },
    {
     "data": {
      "image/png": "[encoded data removed]",
      "text/plain": [
       "<Figure size 600x400 with 1 Axes>"
      ]
     },
     "metadata": {},
     "output_type": "display_data"
    }
   ],
   "source": [
    "# تحليل البقاء على قيد الحياة حسب درجة التذكرة\n",
    "plt.figure(figsize=(6, 4))\n",
    "sns.barplot(x='Pclass', y='Survived', data=df_titanic, palette='magma')\n",
    "plt.title('معدل البقاء على قيد الحياة حسب درجة التذكرة')\n",
    "plt.xlabel('درجة التذكرة')\n",
    "plt.ylabel('معدل البقاء على قيد الحياة')\n",
    "plt.show()"
   ]
  },
  {
   "cell_type": "code",
   "execution_count": 22,
   "id": "b88fd673-fc78-4345-b941-e8a64f436e0c",
   "metadata": {},
   "outputs": [
    {
     "data": {
      "image/png": "[encoded data removed]",
      "text/plain": [
       "<Figure size 1000x600 with 1 Axes>"
      ]
     },
     "metadata": {},
     "output_type": "display_data"
    }
   ],
   "source": [
    "# تحليل البقاء على قيد الحياة حسب العمر\n",
    "plt.figure(figsize=(10, 6))\n",
    "sns.histplot(data=df_titanic, x='Age', hue='Survived', multiple='stack', bins=30, palette='coolwarm')\n",
    "plt.title('توزيع العمر للناجين وغير الناجين')\n",
    "plt.xlabel('العمر')\n",
    "plt.ylabel('عدد الركاب')\n",
    "plt.show()"
   ]
  },
  {
   "cell_type": "code",
   "execution_count": 23,
   "id": "cb7d11fc-ed0e-40d8-bdf3-f4d3239d7a04",
   "metadata": {},
   "outputs": [
    {
     "name": "stdout",
     "output_type": "stream",
     "text": [
      "ملخص إحصائي للأعمدة النصية (Categorical):\n",
      "                            Name   Sex  Ticket Embarked\n",
      "count                       891   891     891      891\n",
      "unique                      891     2     681        3\n",
      "top     Braund, Mr. Owen Harris  male  347082        S\n",
      "freq                          1   577       7      646\n"
     ]
    }
   ],
   "source": [
    "# عرض ملخص إحصائي للأعمدة النصية\n",
    "print(\"ملخص إحصائي للأعمدة النصية (Categorical):\\n\", df_titanic.describe(include='object'))"
   ]
  },
  {
   "cell_type": "code",
   "execution_count": 24,
   "id": "cf71dfc7-8f1c-4ad8-a2db-061eb7b808aa",
   "metadata": {},
   "outputs": [
    {
     "name": "stdout",
     "output_type": "stream",
     "text": [
      "ملخص إحصائي للأعمدة النصية (Categorical):\n",
      "                            Name   Sex  Ticket Embarked\n",
      "count                       891   891     891      891\n",
      "unique                      891     2     681        3\n",
      "top     Braund, Mr. Owen Harris  male  347082        S\n",
      "freq                          1   577       7      646\n"
     ]
    }
   ],
   "source": [
    "# عرض ملخص إحصائي للأعمدة النصية\n",
    "print(\"ملخص إحصائي للأعمدة النصية (Categorical):\\n\", df_titanic.describe(include='object'))"
   ]
  },
  {
   "cell_type": "code",
   "execution_count": 25,
   "id": "4116125f-ef27-4007-ad4b-5d97583b663e",
   "metadata": {},
   "outputs": [
    {
     "name": "stdout",
     "output_type": "stream",
     "text": [
      "متوسط العمر حسب الجنس:\n",
      " Sex\n",
      "female    27.929936\n",
      "male      30.140676\n",
      "Name: Age, dtype: float64\n",
      "\n",
      "==============================\n",
      "\n",
      "متوسط العمر حسب درجة التذكرة:\n",
      " Pclass\n",
      "1    36.812130\n",
      "2    29.765380\n",
      "3    25.932627\n",
      "Name: Age, dtype: float64\n"
     ]
    }
   ],
   "source": [
    "# حساب متوسط العمر حسب الجنس\n",
    "print(\"متوسط العمر حسب الجنس:\\n\", df_titanic.groupby('Sex')['Age'].mean())\n",
    "\n",
    "print(\"\\n\" + \"=\"*30 + \"\\n\") # لفاصل بين النتائج\n",
    "\n",
    "# حساب متوسط العمر حسب درجة التذكرة (Pclass)\n",
    "print(\"متوسط العمر حسب درجة التذكرة:\\n\", df_titanic.groupby('Pclass')['Age'].mean())"
   ]
  },
  {
   "cell_type": "code",
   "execution_count": 26,
   "id": "31b816dd-ddbd-47d7-8d11-f5bdc107a0c7",
   "metadata": {},
   "outputs": [
    {
     "name": "stdout",
     "output_type": "stream",
     "text": [
      "تم حفظ البيانات النظيفة في: /Users/fahadahmed/Desktop/1 week/titanic_cleaned.csv\n"
     ]
    }
   ],
   "source": [
    "# حفظ DataFrame النظيف كملف CSV جديد\n",
    "# سنتأكد من عدم حفظ عمود الفهرس (index)\n",
    "output_file_path = r'/Users/fahadahmed/Desktop/1 week/titanic_cleaned.csv'\n",
    "df_titanic.to_csv(output_file_path, index=False)\n",
    "print(f\"تم حفظ البيانات النظيفة في: {output_file_path}\")"
   ]
  },
  {
   "cell_type": "code",
   "execution_count": null,
   "id": "dee755ef-f871-4d65-be0c-06f542586bcf",
   "metadata": {},
   "outputs": [],
   "source": []
  }
 ],
 "metadata": {
  "kernelspec": {
   "display_name": "Python [conda env:base] *",
   "language": "python",
   "name": "conda-base-py"
  },
  "language_info": {
   "codemirror_mode": {
    "name": "ipython",
    "version": 3
   },
   "file_extension": ".py",
   "mimetype": "text/x-python",
   "name": "python",
   "nbconvert_exporter": "python",
   "pygments_lexer": "ipython3",
   "version": "3.12.7"
  }
 },
 "nbformat": 4,
 "nbformat_minor": 5
}
